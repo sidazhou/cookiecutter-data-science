{
 "cells": [
  {
   "cell_type": "markdown",
   "metadata": {},
   "source": [
    "### Method:\n",
    "from n000, trying method xyz, using data abc\n",
    "\n",
    "### Notes:\n",
    "Put tmp stuff into n9xx\n",
    "\n",
    "### Result:\n",
    "We noted that method xyz took 5 minutes to run and the result is 5% different compared to n000"
   ]
  },
  {
   "cell_type": "code",
   "execution_count": null,
   "metadata": {
    "ExecuteTime": {
     "end_time": "2018-05-30T03:12:23.176035Z",
     "start_time": "2018-05-30T03:12:21.892079Z"
    },
    "code_folding": [
     0
    ]
   },
   "outputs": [],
   "source": [
    "############### root_dir ###############\n",
    "import os, sys, re\n",
    "# sdMANUAL\n",
    "def root_dir(project_name):\n",
    "    end_ind = re.search(project_name, os.getcwd()).end() # finds the last index of the first occurance\n",
    "    return os.getcwd()[:end_ind]\n",
    "try:\n",
    "    ROOT_DIR = root_dir('plato-faiss') # sdMANUAL\n",
    "except:\n",
    "    raise ValueError('Project ROOT_DIR WRONG')\n",
    "\n",
    "SRC_DIR = f'{ROOT_DIR}/src'\n",
    "sys.path.append(SRC_DIR)\n",
    "\n",
    "############### general imports ###############\n",
    "import numpy as np, scipy, matplotlib.pyplot as plt, seaborn as sns, traceback, logging, pickle, csv, random, time\n",
    "import datetime; DATETIME_FMT = \"%Y%m%d %H:%M:%S\"\n",
    "\n",
    "from mpl_toolkits.axes_grid1.inset_locator import zoomed_inset_axes, inset_axes\n",
    "from mpl_toolkits.axes_grid1.inset_locator import mark_inset\n",
    "\n",
    "from pdb import set_trace as bp\n",
    "from sdutils.files import ensure_dir\n",
    "# from sdutils.plot import plot\n",
    "# from sdutils.describe import describe\n",
    "from sdutils.shell import shell_run\n",
    "\n",
    "# sdMANUAL\n",
    "import pandas as pd\n",
    "# import modin.pandas as pd; print('import modin.pandas as pd')\n",
    "\n",
    "############### settings ###############\n",
    "\n",
    "# sdMANUAL\n",
    "# %matplotlib notebook\n",
    "%matplotlib inline \n",
    "plt.style.use('seaborn-white')\n",
    "pd.set_option('display.max_rows', 50)\n",
    "pd.set_option('display.max_columns', 0)\n",
    "\n",
    "%load_ext memory_profiler\n",
    "%load_ext autoreload\n",
    "%autoreload\n",
    "\n",
    "# sdMANUAL\n",
    "seed = int(time.time()); random.seed(seed); np.random.seed(seed); print(\"Seed was:\", seed)\n",
    "# seed = 1519972733; random.seed(seed); np.random.seed(seed); print('Warning: MANUAL seed'); print(\"Seed was:\", seed);"
   ]
  },
  {
   "cell_type": "code",
   "execution_count": null,
   "metadata": {
    "ExecuteTime": {
     "end_time": "2018-05-30T03:12:33.153778Z",
     "start_time": "2018-05-30T03:12:33.146613Z"
    },
    "code_folding": []
   },
   "outputs": [],
   "source": [
    "%%javascript\n",
    "// https://stackoverflow.com/questions/12544056/how-do-i-get-the-current-ipython-notebook-name\n",
    "var kernel = IPython.notebook.kernel;\n",
    "var thename = window.document.getElementById(\"notebook_name\").innerHTML;\n",
    "var command = \"theNotebook = \" + \"'\"+thename+\"'\";\n",
    "kernel.execute(command);"
   ]
  },
  {
   "cell_type": "code",
   "execution_count": null,
   "metadata": {
    "ExecuteTime": {
     "end_time": "2018-05-30T03:12:33.874897Z",
     "start_time": "2018-05-30T03:12:33.809172Z"
    },
    "code_folding": [
     0
    ]
   },
   "outputs": [],
   "source": [
    "# project imports\n",
    "\n",
    "from sklearn.model_selection import GridSearchCV, ParameterGrid, RandomizedSearchCV, train_test_split\n",
    "from sklearn.pipeline import Pipeline\n",
    "from sklearn.base import TransformerMixin, BaseEstimator\n",
    "\n",
    "from sklearn.linear_model import LogisticRegression\n",
    "from sklearn.svm import SVC\n",
    "from sklearn.ensemble import VotingClassifier, AdaBoostClassifier, RandomForestClassifier\n",
    "import scikitplot as skplt\n",
    "from sklearn.metrics import classification_report \n",
    "from sklearn.dummy import DummyClassifier\n",
    "\n",
    "from imblearn.under_sampling import NearMiss\n",
    "from imblearn.combine import SMOTETomek\n",
    "\n",
    "import sklearn.model_selection\n",
    "import sklearn.datasets\n",
    "import sklearn.metrics\n",
    "\n",
    "import multiprocessing\n",
    "\n",
    "# sanity check for NUM_TAG and comfirming OUTPUT_DIR\n",
    "try:\n",
    "    match = re.search(r'^.\\d\\d\\d', theNotebook)\n",
    "    NUM_TAG = match.group() # will error if not found\n",
    "except: \n",
    "    print('WARNING: Please check NUM_TAG and set it MANUALLY.')\n",
    "    NUM_TAG = 'n001'\n",
    "ASSET_DIR = f'{ROOT_DIR}/notebook_assets'\n",
    "OUTPUT_DIR = ensure_dir(f'{ASSET_DIR}/{NUM_TAG}')\n",
    "DATA_DIR = f'{ROOT_DIR}/data'\n",
    "print(OUTPUT_DIR)"
   ]
  },
  {
   "cell_type": "code",
   "execution_count": null,
   "metadata": {
    "ExecuteTime": {
     "end_time": "2018-05-30T03:42:02.198872Z",
     "start_time": "2018-05-30T03:41:55.535476Z"
    },
    "scrolled": true
   },
   "outputs": [],
   "source": [
    "# # useful commands\n",
    "\n",
    "# df_train = pd.read_csv('../data/xxx/file_train.csv')\n",
    "# df_test = pd.read_csv('../data/xxx/file_test.csv')\n",
    "\n",
    "# !cat \"{OUTPUT_DIR}/0_0_1_experiments_roc_summary.txt\"\n",
    "# !rm \"{OUTPUT_DIR}/0_0_1_experiments_roc_summary.txt\"\n",
    "\n",
    "# with open(f\"{OUTPUT_DIR}/0_0_1_experiments_roc_summary.txt\", \"a\") as fp:\n",
    "#     print('hep', file= fp )"
   ]
  }
 ],
 "metadata": {
  "kernelspec": {
   "display_name": "Python 3",
   "language": "python",
   "name": "python3"
  },
  "language_info": {
   "codemirror_mode": {
    "name": "ipython",
    "version": 3
   },
   "file_extension": ".py",
   "mimetype": "text/x-python",
   "name": "python",
   "nbconvert_exporter": "python",
   "pygments_lexer": "ipython3",
   "version": "3.7.6"
  },
  "varInspector": {
   "cols": {
    "lenName": 16,
    "lenType": 16,
    "lenVar": 40
   },
   "kernels_config": {
    "python": {
     "delete_cmd_postfix": "",
     "delete_cmd_prefix": "del ",
     "library": "var_list.py",
     "varRefreshCmd": "print(var_dic_list())"
    },
    "r": {
     "delete_cmd_postfix": ") ",
     "delete_cmd_prefix": "rm(",
     "library": "var_list.r",
     "varRefreshCmd": "cat(var_dic_list()) "
    }
   },
   "types_to_exclude": [
    "module",
    "function",
    "builtin_function_or_method",
    "instance",
    "_Feature"
   ],
   "window_display": false
  }
 },
 "nbformat": 4,
 "nbformat_minor": 4
}
