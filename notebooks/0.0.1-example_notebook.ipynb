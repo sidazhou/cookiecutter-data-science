{
 "cells": [
  {
   "cell_type": "markdown",
   "metadata": {},
   "source": [
    "### Method:\n",
    "from 0.0.0, trying method xyz, using data abc\n",
    "\n",
    "### Result:\n",
    "We noted that method xyz took 5 minutes to run and the result is 5% different compared to 0.0.0"
   ]
  },
  {
   "cell_type": "code",
   "execution_count": null,
   "metadata": {
    "ExecuteTime": {
     "end_time": "2018-05-30T03:12:23.176035Z",
     "start_time": "2018-05-30T03:12:21.892079Z"
    },
    "code_folding": [
     0
    ]
   },
   "outputs": [],
   "source": [
    "# general imports\n",
    "\n",
    "import os, sys, re\n",
    "import numpy as np\n",
    "\n",
    "def root_dir(project_name):\n",
    "    end_ind = re.search(project_name, os.getcwd()).end() # finds the last index of the first occurance\n",
    "    return os.getcwd()[:end_ind]\n",
    "ROOT_DIR = root_dir('GEM') # MANUAL\n",
    "\n",
    "SRC_DIR = f'{ROOT_DIR}/src'\n",
    "sys.path.append(SRC_DIR)\n",
    "import traceback\n",
    "import logging\n",
    "\n",
    "import pandas as pd\n",
    "import matplotlib.pyplot as plt\n",
    "import seaborn as sns\n",
    "import scipy\n",
    "\n",
    "# %matplotlib notebook\n",
    "%matplotlib inline \n",
    "plt.style.use('ggplot')\n",
    "\n",
    "import pickle\n",
    "import csv\n",
    "from IPython.display import display\n",
    "from tqdm import tqdm\n",
    "from pdb import set_trace as bp;\n",
    "\n",
    "from sdutils.plot import plot\n",
    "from sdutils.files import ensure_dir\n",
    "from sdutils.describe import describe\n",
    "\n",
    "pd.set_option('display.max_rows', 50)\n",
    "pd.set_option('display.max_columns', 0)\n",
    "\n",
    "%load_ext memory_profiler\n",
    "%load_ext autoreload\n",
    "%autoreload\n",
    "\n",
    "# some weird error while import keras \n",
    "# # http://zachmoshe.com/2017/04/03/pickling-keras-models.html\n",
    "# import types\n",
    "# import tempfile\n",
    "# import keras.models\n",
    "\n",
    "# def make_keras_picklable():\n",
    "#     def __getstate__(self):\n",
    "#         model_str = \"\"\n",
    "#         with tempfile.NamedTemporaryFile(suffix='.hdf5', delete=True) as fd:\n",
    "#             keras.models.save_model(self, fd.name, overwrite=True)\n",
    "#             model_str = fd.read()\n",
    "#         d = { 'model_str': model_str }\n",
    "#         return d\n",
    "\n",
    "#     def __setstate__(self, state):\n",
    "#         with tempfile.NamedTemporaryFile(suffix='.hdf5', delete=True) as fd:\n",
    "#             fd.write(state['model_str'])\n",
    "#             fd.flush()\n",
    "#             model = keras.models.load_model(fd.name)\n",
    "#         self.__dict__ = model.__dict__\n",
    "\n",
    "\n",
    "#     cls = keras.models.Model\n",
    "#     cls.__getstate__ = __getstate__\n",
    "#     cls.__setstate__ = __setstate__\n",
    "\n",
    "# make_keras_picklable()\n",
    "\n",
    "import random\n",
    "import time \n",
    "seed = int(time.time())\n",
    "# print('Warning: MANUAL seed')\n",
    "# seed = 1519972733 # MANUAL\n",
    "random.seed(seed)\n",
    "np.random.seed(seed) # !!!\n",
    "print(\"Seed was:\", seed)"
   ]
  },
  {
   "cell_type": "code",
   "execution_count": null,
   "metadata": {
    "ExecuteTime": {
     "end_time": "2018-05-30T03:12:33.153778Z",
     "start_time": "2018-05-30T03:12:33.146613Z"
    },
    "code_folding": []
   },
   "outputs": [],
   "source": [
    "%%javascript\n",
    "// https://stackoverflow.com/questions/12544056/how-do-i-get-the-current-ipython-notebook-name\n",
    "var kernel = IPython.notebook.kernel;\n",
    "var thename = window.document.getElementById(\"notebook_name\").innerHTML;\n",
    "var command = \"theNotebook = \" + \"'\"+thename+\"'\";\n",
    "kernel.execute(command);"
   ]
  },
  {
   "cell_type": "code",
   "execution_count": null,
   "metadata": {
    "ExecuteTime": {
     "end_time": "2018-05-30T03:12:33.874897Z",
     "start_time": "2018-05-30T03:12:33.809172Z"
    },
    "code_folding": [
     0
    ]
   },
   "outputs": [],
   "source": [
    "# project imports\n",
    "\n",
    "from sklearn.model_selection import GridSearchCV, ParameterGrid, RandomizedSearchCV, train_test_split\n",
    "from sklearn.pipeline import Pipeline\n",
    "from sklearn.base import TransformerMixin, BaseEstimator\n",
    "\n",
    "from sklearn.linear_model import LogisticRegression\n",
    "from sklearn.svm import SVC\n",
    "from sklearn.ensemble import VotingClassifier, AdaBoostClassifier, RandomForestClassifier\n",
    "import scikitplot as skplt\n",
    "from sklearn.metrics import classification_report \n",
    "from sklearn.dummy import DummyClassifier\n",
    "\n",
    "from imblearn.under_sampling import NearMiss\n",
    "from imblearn.combine import SMOTETomek\n",
    "\n",
    "import sklearn.model_selection\n",
    "import sklearn.datasets\n",
    "import sklearn.metrics\n",
    "\n",
    "import multiprocessing\n",
    "\n",
    "# sanity check for NUM_TAG and comfirming OUTPUT_DIR\n",
    "try:\n",
    "    match = re.search(r'^\\d+\\.\\d+\\.\\d+', theNotebook)\n",
    "    NUM_TAG = match.group() # will error if not found\n",
    "except: \n",
    "    print('WARNING: Please check NUM_TAG and set it MANUALLY.')\n",
    "    NUM_TAG = '1.0.10'\n",
    "ASSET_DIR = f'{ROOT_DIR}/assets'\n",
    "OUTPUT_DIR = ensure_dir(f'{ASSET_DIR}/{NUM_TAG}')\n",
    "print(OUTPUT_DIR)"
   ]
  },
  {
   "cell_type": "code",
   "execution_count": null,
   "metadata": {
    "ExecuteTime": {
     "end_time": "2018-05-30T03:42:02.198872Z",
     "start_time": "2018-05-30T03:41:55.535476Z"
    },
    "scrolled": true
   },
   "outputs": [],
   "source": [
    "# # useful commands\n",
    "\n",
    "# df_train = pd.read_csv('../data/xxx/file_train.csv')\n",
    "# df_test = pd.read_csv('../data/xxx/file_test.csv')\n",
    "\n",
    "# !cat \"{OUTPUT_DIR}/0_0_1_experiments_roc_summary.txt\"\n",
    "# !rm \"{OUTPUT_DIR}/0_0_1_experiments_roc_summary.txt\"\n",
    "\n",
    "# with open(f\"{OUTPUT_DIR}/0_0_1_experiments_roc_summary.txt\", \"a\") as fp:\n",
    "#     print('hep', file= fp )"
   ]
  },
  {
   "cell_type": "code",
   "execution_count": null,
   "metadata": {},
   "outputs": [],
   "source": []
  }
 ],
 "metadata": {
  "kernelspec": {
   "display_name": "Python 3",
   "language": "python",
   "name": "python3"
  },
  "language_info": {
   "codemirror_mode": {
    "name": "ipython",
    "version": 3
   },
   "file_extension": ".py",
   "mimetype": "text/x-python",
   "name": "python",
   "nbconvert_exporter": "python",
   "pygments_lexer": "ipython3",
   "version": "3.6.5"
  },
  "varInspector": {
   "cols": {
    "lenName": 16,
    "lenType": 16,
    "lenVar": 40
   },
   "kernels_config": {
    "python": {
     "delete_cmd_postfix": "",
     "delete_cmd_prefix": "del ",
     "library": "var_list.py",
     "varRefreshCmd": "print(var_dic_list())"
    },
    "r": {
     "delete_cmd_postfix": ") ",
     "delete_cmd_prefix": "rm(",
     "library": "var_list.r",
     "varRefreshCmd": "cat(var_dic_list()) "
    }
   },
   "types_to_exclude": [
    "module",
    "function",
    "builtin_function_or_method",
    "instance",
    "_Feature"
   ],
   "window_display": false
  }
 },
 "nbformat": 4,
 "nbformat_minor": 2
}
